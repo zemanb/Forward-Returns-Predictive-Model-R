{
 "cells": [
  {
   "cell_type": "code",
   "execution_count": 1,
   "metadata": {},
   "outputs": [
    {
     "name": "stderr",
     "output_type": "stream",
     "text": [
      "-- \u001b[1mAttaching packages\u001b[22m ------------------------------------------------------------------------------- tidyverse 1.3.1 --\n",
      "\n",
      "\u001b[32mv\u001b[39m \u001b[34mggplot2\u001b[39m 3.3.5     \u001b[32mv\u001b[39m \u001b[34mpurrr  \u001b[39m 0.3.4\n",
      "\u001b[32mv\u001b[39m \u001b[34mtibble \u001b[39m 3.1.6     \u001b[32mv\u001b[39m \u001b[34mdplyr  \u001b[39m 1.0.7\n",
      "\u001b[32mv\u001b[39m \u001b[34mtidyr  \u001b[39m 1.1.4     \u001b[32mv\u001b[39m \u001b[34mstringr\u001b[39m 1.4.0\n",
      "\u001b[32mv\u001b[39m \u001b[34mreadr  \u001b[39m 2.1.0     \u001b[32mv\u001b[39m \u001b[34mforcats\u001b[39m 0.5.1\n",
      "\n",
      "-- \u001b[1mConflicts\u001b[22m ---------------------------------------------------------------------------------- tidyverse_conflicts() --\n",
      "\u001b[31mx\u001b[39m \u001b[34mdplyr\u001b[39m::\u001b[32mfilter()\u001b[39m masks \u001b[34mstats\u001b[39m::filter()\n",
      "\u001b[31mx\u001b[39m \u001b[34mdplyr\u001b[39m::\u001b[32mlag()\u001b[39m    masks \u001b[34mstats\u001b[39m::lag()\n",
      "\n",
      "Loading required package: Matrix\n",
      "\n",
      "\n",
      "Attaching package: 'Matrix'\n",
      "\n",
      "\n",
      "The following objects are masked from 'package:tidyr':\n",
      "\n",
      "    expand, pack, unpack\n",
      "\n",
      "\n",
      "Loaded glmnet 4.1-3\n",
      "\n",
      "New names:\n",
      "* `` -> ...1\n",
      "\n",
      "\u001b[1mRows: \u001b[22m\u001b[34m524160\u001b[39m \u001b[1mColumns: \u001b[22m\u001b[34m4\u001b[39m\n",
      "\n",
      "\u001b[36m--\u001b[39m \u001b[1mColumn specification\u001b[22m \u001b[36m------------------------------------------------------------------------------------------------\u001b[39m\n",
      "\u001b[1mDelimiter:\u001b[22m \",\"\n",
      "\u001b[32mdbl\u001b[39m (4): ...1, Asset_1, Asset_2, Asset_3\n",
      "\n",
      "\n",
      "\u001b[36mi\u001b[39m Use \u001b[30m\u001b[47m\u001b[30m\u001b[47m`spec()`\u001b[47m\u001b[30m\u001b[49m\u001b[39m to retrieve the full column specification for this data.\n",
      "\u001b[36mi\u001b[39m Specify the column types or set \u001b[30m\u001b[47m\u001b[30m\u001b[47m`show_col_types = FALSE`\u001b[47m\u001b[30m\u001b[49m\u001b[39m to quiet this message.\n",
      "\n",
      "\u001b[1mRows: \u001b[22m\u001b[34m524160\u001b[39m \u001b[1mColumns: \u001b[22m\u001b[34m9\u001b[39m\n",
      "\n",
      "\u001b[36m--\u001b[39m \u001b[1mColumn specification\u001b[22m \u001b[36m------------------------------------------------------------------------------------------------\u001b[39m\n",
      "\u001b[1mDelimiter:\u001b[22m \",\"\n",
      "\u001b[32mdbl\u001b[39m (9): Asset_1_BRet_3, Asset_1_BRet_10, Asset_1_BRet_30, Asset_2_BRet_3, A...\n",
      "\n",
      "\n",
      "\u001b[36mi\u001b[39m Use \u001b[30m\u001b[47m\u001b[30m\u001b[47m`spec()`\u001b[47m\u001b[30m\u001b[49m\u001b[39m to retrieve the full column specification for this data.\n",
      "\u001b[36mi\u001b[39m Specify the column types or set \u001b[30m\u001b[47m\u001b[30m\u001b[47m`show_col_types = FALSE`\u001b[47m\u001b[30m\u001b[49m\u001b[39m to quiet this message.\n",
      "\n"
     ]
    }
   ],
   "source": [
    "library(tidyverse)\n",
    "library(glmnet)\n",
    "tbl1 = read_csv(\"final_project_data.csv\")\n",
    "tbl2 = read_csv(\"bret-1.csv\")\n",
    "tbl = cbind(tbl1, tbl2)\n"
   ]
  },
  {
   "cell_type": "code",
   "execution_count": 4,
   "metadata": {},
   "outputs": [
    {
     "name": "stderr",
     "output_type": "stream",
     "text": [
      "Installing package into 'C:/Users/Ben/Documents/R/win-library/4.1'\n",
      "(as 'lib' is unspecified)\n",
      "\n",
      "Warning message:\n",
      "\"package 'unix' is not available for this version of R\n",
      "\n",
      "A version of this package for your version of R might be available elsewhere,\n",
      "see the ideas at\n",
      "https://cran.r-project.org/doc/manuals/r-patched/R-admin.html#Installing-packages\"\n"
     ]
    }
   ],
   "source": [
    "install.packages(\"unix\")"
   ]
  },
  {
   "cell_type": "code",
   "execution_count": 2,
   "metadata": {},
   "outputs": [],
   "source": [
    "tbl$min10 = pmin((tbl$...1 + 10), nrow(tbl))\n",
    "tbl$rf10 = (tbl$Asset_1[tbl$min10] - tbl$Asset_1)/tbl$Asset_1\n",
    "tbl$max3 = pmax((tbl$...1 - 3), 1)\n",
    "tbl$rb3 = (tbl$Asset_1 - tbl$Asset_1[tbl$max3])/tbl$Asset_1[tbl$max3]\n",
    "tbl$max10 = pmax((tbl$...1 - 10), 1)\n",
    "tbl$rb10 = (tbl$Asset_1 - tbl$Asset_1[tbl$max10])/tbl$Asset_1[tbl$max10]\n",
    "tbl$max30 = pmax((tbl$...1 - 30), 1)\n",
    "tbl$rb30 = (tbl$Asset_1 - tbl$Asset_1[tbl$max30])/tbl$Asset_1[tbl$max30]\n",
    "tbl$max60 = pmax((tbl$...1 - 60), 1)\n",
    "tbl$rb60 = (tbl$Asset_1 - tbl$Asset_1[tbl$max60])/tbl$Asset_1[tbl$max60]\n",
    "tbl$max120 = pmax((tbl$...1 - 120), 1)\n",
    "tbl$rb120 = (tbl$Asset_1 - tbl$Asset_1[tbl$max120])/tbl$Asset_1[tbl$max120]\n",
    "tbl$max180 = pmax((tbl$...1 - 180), 1)\n",
    "tbl$rb180 = (tbl$Asset_1 - tbl$Asset_1[tbl$max180])/tbl$Asset_1[tbl$max180]\n",
    "tbl$max240 = pmax((tbl$...1 - 240), 1)\n",
    "tbl$rb240 = (tbl$Asset_1 - tbl$Asset_1[tbl$max240])/tbl$Asset_1[tbl$max240]\n",
    "tbl$max360 = pmax((tbl$...1 - 360), 1)\n",
    "tbl$rb360 = (tbl$Asset_1 - tbl$Asset_1[tbl$max360])/tbl$Asset_1[tbl$max360]\n",
    "tbl$max480 = pmax((tbl$...1 - 480), 1)\n",
    "tbl$rb480 = (tbl$Asset_1 - tbl$Asset_1[tbl$max480])/tbl$Asset_1[tbl$max480]\n",
    "tbl$max600 = pmax((tbl$...1 - 600), 1)\n",
    "tbl$rb600 = (tbl$Asset_1 - tbl$Asset_1[tbl$max600])/tbl$Asset_1[tbl$max600]\n",
    "tbl$max720 = pmax((tbl$...1 - 720), 1)\n",
    "tbl$rb720 = (tbl$Asset_1 - tbl$Asset_1[tbl$max720])/tbl$Asset_1[tbl$max720]\n",
    "tbl$max960 = pmax((tbl$...1 - 960), 1)\n",
    "tbl$rb960 = (tbl$Asset_1 - tbl$Asset_1[tbl$max960])/tbl$Asset_1[tbl$max960]\n",
    "tbl$max1200 = pmax((tbl$...1 - 1200), 1)\n",
    "tbl$rb1200 = (tbl$Asset_1 - tbl$Asset_1[tbl$max1200])/tbl$Asset_1[tbl$max1200]\n",
    "tbl$max1440 = pmax((tbl$...1 - 1440), 1)\n",
    "tbl$rb1440 = (tbl$Asset_1 - tbl$Asset_1[tbl$max1440])/tbl$Asset_1[tbl$max1440]\n",
    "#creating all the backwards returns and forward returns"
   ]
  },
  {
   "cell_type": "code",
   "execution_count": 57,
   "metadata": {},
   "outputs": [
    {
     "data": {
      "image/png": "[encoded data removed]",
      "text/plain": [
       "plot without title"
      ]
     },
     "metadata": {
      "image/png": {
       "height": 420,
       "width": 420
      }
     },
     "output_type": "display_data"
    }
   ],
   "source": [
    "cutoff = floor(nrow(tbl)*.7)\n",
    "train_id = 2:cutoff\n",
    "train = tbl[2:cutoff,]\n",
    "test = tbl[(cutoff+1):nrow(tbl),]\n",
    "#splitting data\n",
    "Y = tbl$rf10\n",
    "X = model.matrix(rf10 ~ rb3 + rb10 + rb30 + rb60 + rb120 + rb240 + rb360 + rb480 + rb600 + rb720 + rb960 + rb1200 + rb1440, tbl)[,-1]\n",
    "grid = 10^seq(5, -8, length=100)\n",
    "ridge.mod = glmnet(X[train_id,], Y[train_id], alpha=0, lambda=grid)\n",
    "plot(ridge.mod, xvar = \"lambda\", label = TRUE)\n",
    "#ridge regression, coefficients vs log of potential lambda"
   ]
  },
  {
   "cell_type": "code",
   "execution_count": 74,
   "metadata": {},
   "outputs": [
    {
     "data": {
      "image/png": "[encoded data removed]",
      "text/plain": [
       "plot without title"
      ]
     },
     "metadata": {
      "image/png": {
       "height": 420,
       "width": 420
      }
     },
     "output_type": "display_data"
    }
   ],
   "source": [
    "set.seed(1)\n",
    "cv.out = cv.glmnet(X[train_id,], Y[train_id], alpha=0, lambda = grid)\n",
    "plot(cv.out)\n",
    "# plot of cv mse by lambda"
   ]
  },
  {
   "cell_type": "code",
   "execution_count": 75,
   "metadata": {},
   "outputs": [
    {
     "data": {
      "text/html": [
       "<strong>s54:</strong> 55"
      ],
      "text/latex": [
       "\\textbf{s54:} 55"
      ],
      "text/markdown": [
       "**s54:** 55"
      ],
      "text/plain": [
       "s54 \n",
       " 55 "
      ]
     },
     "metadata": {},
     "output_type": "display_data"
    }
   ],
   "source": [
    "bestlam = cv.out$lambda.min\n",
    "ridge.pred_test = predict(ridge.mod, newx=X[-train_id,])\n",
    "which.min(apply(ridge.pred_test, 2, function (x) mean((x - Y[-train_id])^2)))\n",
    "# findng which lambda has the lowest validation mse by index"
   ]
  },
  {
   "cell_type": "code",
   "execution_count": 76,
   "metadata": {},
   "outputs": [
    {
     "data": {
      "text/html": [
       "0.00811130830789686"
      ],
      "text/latex": [
       "0.00811130830789686"
      ],
      "text/markdown": [
       "0.00811130830789686"
      ],
      "text/plain": [
       "[1] 0.008111308"
      ]
     },
     "metadata": {},
     "output_type": "display_data"
    }
   ],
   "source": [
    "(bestlam = grid[55])\n",
    "# finding optimal lambda"
   ]
  },
  {
   "cell_type": "code",
   "execution_count": 77,
   "metadata": {},
   "outputs": [
    {
     "data": {
      "text/html": [
       "<style>\n",
       ".list-inline {list-style: none; margin:0; padding: 0}\n",
       ".list-inline>li {display: inline-block}\n",
       ".list-inline>li:not(:last-child)::after {content: \"\\00b7\"; padding: 0 .5ex}\n",
       "</style>\n",
       "<ol class=list-inline><li>0.0462294639436968</li><li>0.0129575757093039</li></ol>\n"
      ],
      "text/latex": [
       "\\begin{enumerate*}\n",
       "\\item 0.0462294639436968\n",
       "\\item 0.0129575757093039\n",
       "\\end{enumerate*}\n"
      ],
      "text/markdown": [
       "1. 0.0462294639436968\n",
       "2. 0.0129575757093039\n",
       "\n",
       "\n"
      ],
      "text/plain": [
       "[1] 0.04622946 0.01295758"
      ]
     },
     "metadata": {},
     "output_type": "display_data"
    }
   ],
   "source": [
    "ridge.pred_train = predict(ridge.mod,s = bestlam, newx=X[train_id,])\n",
    "ridge.pred_test = predict(ridge.mod,s = bestlam, newx=X[-train_id,])\n",
    "c(cor(Y[train_id], ridge.pred_train), cor(Y[-train_id], ridge.pred_test))\n",
    "#in sample and out sample correlation"
   ]
  },
  {
   "cell_type": "code",
   "execution_count": 68,
   "metadata": {},
   "outputs": [
    {
     "data": {
      "image/png": "[encoded data removed]",
      "text/plain": [
       "plot without title"
      ]
     },
     "metadata": {
      "image/png": {
       "height": 420,
       "width": 420
      }
     },
     "output_type": "display_data"
    }
   ],
   "source": [
    "lasso.mod = glmnet(X[train_id,], Y[train_id], alpha=1, lambda=grid)\n",
    "set.seed(1)\n",
    "cv.out = cv.glmnet(X[train_id,], Y[train_id], alpha=1, lambda = grid)\n",
    "plot(cv.out)\n",
    "#lasso model and cv plot"
   ]
  },
  {
   "cell_type": "code",
   "execution_count": 70,
   "metadata": {},
   "outputs": [
    {
     "data": {
      "image/png": "[encoded data removed]",
      "text/plain": [
       "plot without title"
      ]
     },
     "metadata": {
      "image/png": {
       "height": 420,
       "width": 420
      }
     },
     "output_type": "display_data"
    }
   ],
   "source": [
    "plot(lasso.mod, xvar = \"lambda\", label = TRUE)\n",
    "# lasso coefficients vs lambda plot"
   ]
  },
  {
   "cell_type": "code",
   "execution_count": 71,
   "metadata": {},
   "outputs": [
    {
     "data": {
      "text/html": [
       "<strong>s70:</strong> 71"
      ],
      "text/latex": [
       "\\textbf{s70:} 71"
      ],
      "text/markdown": [
       "**s70:** 71"
      ],
      "text/plain": [
       "s70 \n",
       " 71 "
      ]
     },
     "metadata": {},
     "output_type": "display_data"
    }
   ],
   "source": [
    "\n",
    "lasso.pred_test = predict(lasso.mod, newx=X[-train_id,])\n",
    "which.min(apply(lasso.pred_test, 2, function (x) mean((x - Y[-train_id])^2)))\n",
    "# index of lambda w lowest mse"
   ]
  },
  {
   "cell_type": "code",
   "execution_count": 72,
   "metadata": {},
   "outputs": [
    {
     "data": {
      "text/html": [
       "6.42807311728432e-05"
      ],
      "text/latex": [
       "6.42807311728432e-05"
      ],
      "text/markdown": [
       "6.42807311728432e-05"
      ],
      "text/plain": [
       "[1] 6.428073e-05"
      ]
     },
     "metadata": {},
     "output_type": "display_data"
    }
   ],
   "source": [
    "(bestlam = grid[71])\n",
    "#lambda with lowest mse"
   ]
  },
  {
   "cell_type": "code",
   "execution_count": 73,
   "metadata": {},
   "outputs": [
    {
     "data": {
      "text/html": [
       "<style>\n",
       ".list-inline {list-style: none; margin:0; padding: 0}\n",
       ".list-inline>li {display: inline-block}\n",
       ".list-inline>li:not(:last-child)::after {content: \"\\00b7\"; padding: 0 .5ex}\n",
       "</style>\n",
       "<ol class=list-inline><li>0.0476942460557358</li><li>0.0203283951706514</li></ol>\n"
      ],
      "text/latex": [
       "\\begin{enumerate*}\n",
       "\\item 0.0476942460557358\n",
       "\\item 0.0203283951706514\n",
       "\\end{enumerate*}\n"
      ],
      "text/markdown": [
       "1. 0.0476942460557358\n",
       "2. 0.0203283951706514\n",
       "\n",
       "\n"
      ],
      "text/plain": [
       "[1] 0.04769425 0.02032840"
      ]
     },
     "metadata": {},
     "output_type": "display_data"
    }
   ],
   "source": [
    "lasso.pred_train = predict(lasso.mod,s = bestlam, newx=X[train_id,])\n",
    "lasso.pred_test = predict(lasso.mod,s = bestlam, newx=X[-train_id,])\n",
    "c(cor(Y[train_id], lasso.pred_train), cor(Y[-train_id], lasso.pred_test))\n",
    "# in sample and out sample correlation"
   ]
  },
  {
   "cell_type": "code",
   "execution_count": null,
   "metadata": {},
   "outputs": [],
   "source": []
  }
 ],
 "metadata": {
  "jupytext": {
   "formats": "ipynb,Rmd"
  },
  "kernelspec": {
   "display_name": "R",
   "language": "R",
   "name": "ir"
  },
  "language_info": {
   "codemirror_mode": "r",
   "file_extension": ".r",
   "mimetype": "text/x-r-source",
   "name": "R",
   "pygments_lexer": "r",
   "version": "4.1.2"
  }
 },
 "nbformat": 4,
 "nbformat_minor": 4
}
